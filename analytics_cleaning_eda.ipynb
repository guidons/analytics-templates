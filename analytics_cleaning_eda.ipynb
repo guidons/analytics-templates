{
  "cells": [
    {
      "cell_type": "markdown",
      "metadata": {
        "id": "9dg_oaC6AERK"
      },
      "source": []
    },
    {
      "cell_type": "markdown",
      "metadata": {
        "id": "Z_98Agq6ALg3"
      },
      "source": [
        "## Data Overview, Basic Checks, Conversion, and EDA"
      ]
    },
    {
      "cell_type": "markdown",
      "metadata": {
        "id": "DMEAkMP4Ci_G"
      },
      "source": [
        "### Imports and Loading Data"
      ]
    },
    {
      "cell_type": "code",
      "execution_count": null,
      "metadata": {
        "id": "FYTwSfwaBKft"
      },
      "outputs": [],
      "source": [
        "# Imports for manipulating data\n",
        "import pandas as pd\n",
        "import numpy as np"
      ]
    },
    {
      "cell_type": "code",
      "execution_count": null,
      "metadata": {
        "id": "OvPRmX0z_tO6"
      },
      "outputs": [],
      "source": [
        "# Load data\n",
        "ds = pd.read_csv(\"Data.csv\")"
      ]
    },
    {
      "cell_type": "markdown",
      "metadata": {
        "id": "DTIyqSPcC2Xb"
      },
      "source": [
        "### Overview and Basic Checks"
      ]
    },
    {
      "cell_type": "code",
      "execution_count": null,
      "metadata": {
        "id": "6RNEiIPRAIEv"
      },
      "outputs": [],
      "source": [
        "# First and last 10 entries\n",
        "ds.head(10)\n",
        "ds.tail(10)"
      ]
    },
    {
      "cell_type": "code",
      "execution_count": null,
      "metadata": {
        "id": "CT6kJxSXBIpr"
      },
      "outputs": [],
      "source": [
        "# Determine dimensions of data\n",
        "ds.shape"
      ]
    },
    {
      "cell_type": "code",
      "execution_count": null,
      "metadata": {
        "id": "iRg8c9sTBhu6"
      },
      "outputs": [],
      "source": [
        "# Check for duplicates\n",
        "ds[ds.duplicated()].count()"
      ]
    },
    {
      "cell_type": "code",
      "execution_count": null,
      "metadata": {
        "id": "hMFBMe9YBxK1"
      },
      "outputs": [],
      "source": [
        "# Check for null values\n",
        "ds.isnull().sum()"
      ]
    },
    {
      "cell_type": "code",
      "execution_count": null,
      "metadata": {
        "id": "PQRK2gz_DOeg"
      },
      "outputs": [],
      "source": [
        "# Check if id is unique (if there is id column)\n",
        "ds['id'].is_unique"
      ]
    },
    {
      "cell_type": "markdown",
      "metadata": {
        "id": "I_kbIZidCRg-"
      },
      "source": [
        "### Type Conversion"
      ]
    },
    {
      "cell_type": "code",
      "execution_count": null,
      "metadata": {
        "id": "_gBLpmixB0Be"
      },
      "outputs": [],
      "source": [
        "# Summary of columns, null count, types, dimension\n",
        "ds.info()"
      ]
    },
    {
      "cell_type": "code",
      "execution_count": null,
      "metadata": {
        "id": "gnJmlrmrCQGx"
      },
      "outputs": [],
      "source": [
        "# Convert object types to categorical types\n",
        "cols = ['cat1','cat2', 'cat3']\n",
        "ds[cols] = ds[cols].astype('category')"
      ]
    },
    {
      "cell_type": "code",
      "execution_count": null,
      "metadata": {
        "id": "9ts124HoDx2q"
      },
      "outputs": [],
      "source": [
        "# Describe numerical attributes\n",
        "ds.describe().T"
      ]
    },
    {
      "cell_type": "code",
      "execution_count": null,
      "metadata": {
        "id": "3jbDGc8zEODL"
      },
      "outputs": [],
      "source": [
        "# Describe categorical attributes\n",
        "ds.describe(include=[\"category\"])"
      ]
    },
    {
      "cell_type": "markdown",
      "metadata": {
        "id": "hZzhuVTCRwPW"
      },
      "source": [
        "## Data Cleaning"
      ]
    },
    {
      "cell_type": "markdown",
      "metadata": {
        "id": "j5DiYiR0OopJ"
      },
      "source": [
        "### Drop NaN and duplicates"
      ]
    },
    {
      "cell_type": "code",
      "execution_count": null,
      "metadata": {
        "id": "ZPsc_TCmOwyp"
      },
      "outputs": [],
      "source": [
        "# Drop NaN and duplicates\n",
        "ds = ds.dropna()\n",
        "ds = ds.drop_duplicates()"
      ]
    },
    {
      "cell_type": "markdown",
      "metadata": {
        "id": "0P38cBRCR1NH"
      },
      "source": [
        "### Imputation"
      ]
    },
    {
      "cell_type": "code",
      "execution_count": null,
      "metadata": {
        "id": "onbGAnTxPP3y"
      },
      "outputs": [],
      "source": [
        "# Imputation with mean and median\n",
        "ds = ds.fillna(ds.mean()) \n",
        "ds = ds.fillna(ds.mode()) "
      ]
    },
    {
      "cell_type": "markdown",
      "metadata": {
        "id": "Avz_foNwR8-8"
      },
      "source": [
        "### Treatment of Outliers"
      ]
    },
    {
      "cell_type": "code",
      "execution_count": null,
      "metadata": {
        "id": "V9SvG-hxQQwo"
      },
      "outputs": [],
      "source": [
        "# One way to remove potential outliers is to only consider data in the interquartile range\n",
        "def IQR_clipping(x): \n",
        "    q1 = x.quantile(.25)\n",
        "    q3 = x.quantile(.75)\n",
        "    \n",
        "    IQR = q3-q1\n",
        "    q1_clip = q1-(1.5*IQR)\n",
        "    q3_clip = q3+(1.5*IQR)\n",
        "\n",
        "    return x.clip(q1_clip, q3_clip)"
      ]
    },
    {
      "cell_type": "markdown",
      "metadata": {
        "id": "axL3vZidFUug"
      },
      "source": [
        "## EDA"
      ]
    },
    {
      "cell_type": "markdown",
      "metadata": {
        "id": "K7yzrSboHGz8"
      },
      "source": [
        "### Imports for Data Visualization"
      ]
    },
    {
      "cell_type": "code",
      "execution_count": null,
      "metadata": {
        "id": "HVMsoNmZFWuu"
      },
      "outputs": [],
      "source": [
        "# seaborn and matplotlib for data visualization\n",
        "# Reference list of seaborn plots: https://seaborn.pydata.org/api.html, gallery: https://seaborn.pydata.org/examples/index.html\n",
        "import seaborn as sns\n",
        "import matplotlib.pyplot as plt"
      ]
    },
    {
      "cell_type": "markdown",
      "metadata": {
        "id": "ithbvtWAIyI6"
      },
      "source": [
        "### Plotting univariate distributions"
      ]
    },
    {
      "cell_type": "code",
      "execution_count": null,
      "metadata": {
        "id": "WP3HGH8nHes2"
      },
      "outputs": [],
      "source": [
        "# Histogram for numerical data\n",
        "sns.histplot(ds.num1)"
      ]
    },
    {
      "cell_type": "code",
      "execution_count": null,
      "metadata": {
        "id": "nVyOQaYOOTsT"
      },
      "outputs": [],
      "source": [
        "# Plot distribution\n",
        "sns.displot(ds['num'])"
      ]
    },
    {
      "cell_type": "code",
      "execution_count": null,
      "metadata": {
        "id": "kKhHKVHaK1us"
      },
      "outputs": [],
      "source": [
        "# Boxplot for numerical data\n",
        "sns.boxplot(data=ds, x=\"num\", y=\"cat\")"
      ]
    },
    {
      "cell_type": "code",
      "execution_count": null,
      "metadata": {
        "id": "jw_cxYkHKFDH"
      },
      "outputs": [],
      "source": [
        "# Stripplot for categorical data\n",
        "sns.stripplot(data=ds, x='num', jitter=True);"
      ]
    },
    {
      "cell_type": "code",
      "execution_count": null,
      "metadata": {
        "id": "fr4Rf7ZDLTUf"
      },
      "outputs": [],
      "source": [
        "# Barplot and pointplot for numerical data grouped by a categorical attribute\n",
        "sns.barplot(data=ds, x=\"cat\", y=\"num\")\n",
        "sns.pointplot(data=ds, x=\"cat\", y=\"num\")"
      ]
    },
    {
      "cell_type": "markdown",
      "metadata": {
        "id": "sNBj5i_4JLha"
      },
      "source": [
        "### Plotting bivariate distributions"
      ]
    },
    {
      "cell_type": "code",
      "execution_count": null,
      "metadata": {
        "id": "-19hW0VuH8Lp"
      },
      "outputs": [],
      "source": [
        "# Plotting bivariate distributions\n",
        "sns.jointplot(data = ds, x = 'num1', y = 'num2');\n",
        "sns.jointplot(data = ds, x = 'num1', y = 'num2', kind=\"hex\");\n",
        "sns.jointplot(data = ds, x = 'num1', y = 'num2', kind=\"kde\");"
      ]
    },
    {
      "cell_type": "code",
      "execution_count": null,
      "metadata": {
        "id": "dMVAmU62IL23"
      },
      "outputs": [],
      "source": [
        "# Plotting pairwise bivariate distributions\n",
        "sns.pairplot(ds[['num1', 'num2', 'num3']]);"
      ]
    },
    {
      "cell_type": "code",
      "execution_count": null,
      "metadata": {
        "id": "1IOAHAigJfyN"
      },
      "outputs": [],
      "source": [
        "# Linear relationship between two variables\n",
        "sns.lmplot(data=ds, x=\"num1\", y=\"num2\")"
      ]
    },
    {
      "cell_type": "code",
      "execution_count": null,
      "metadata": {
        "id": "tZnGoZ64N6pE"
      },
      "outputs": [],
      "source": [
        "# Heatmap using correlations\n",
        "ds_corr = ds.corr()\n",
        "sns.heatmap(ds_corr, annot=True)"
      ]
    }
  ],
  "metadata": {
    "colab": {
      "provenance": []
    },
    "kernelspec": {
      "display_name": "Python 3",
      "name": "python3"
    },
    "language_info": {
      "name": "python"
    }
  },
  "nbformat": 4,
  "nbformat_minor": 0
}

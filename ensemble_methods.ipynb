{
  "cells": [
    {
      "cell_type": "markdown",
      "metadata": {
        "id": "rq2tU6fH3jOo"
      },
      "source": [
        "# Imports and Setup"
      ]
    },
    {
      "cell_type": "markdown",
      "metadata": {
        "id": "xEw9GfKL3LTf"
      },
      "source": [
        "## Imports"
      ]
    },
    {
      "cell_type": "code",
      "execution_count": null,
      "metadata": {
        "id": "rVlO3G352lJM"
      },
      "outputs": [],
      "source": [
        "# Evaluation metrics\n",
        "from sklearn import metrics\n",
        "\n",
        "# Train-test split and hyperparameter tuning\n",
        "from sklearn.model_selection import train_test_split\n",
        "from sklearn.model_selection import GridSearchCV\n",
        "\n",
        "# Import classification models\n",
        "from sklearn.tree import DecisionTreeClassifier\n",
        "from sklearn.ensemble import AdaBoostClassifier, GradientBoostingClassifier, RandomForestClassifier, BaggingClassifier\n",
        "from xgboost import XGBClassifier\n",
        "from sklearn.ensemble import StackingClassifier"
      ]
    },
    {
      "cell_type": "markdown",
      "metadata": {
        "id": "DX_qFtXQ1JqL"
      },
      "source": [
        "## Test-train split"
      ]
    },
    {
      "cell_type": "code",
      "execution_count": null,
      "metadata": {
        "id": "vKKqHDPo0C4k"
      },
      "outputs": [],
      "source": [
        "# Input: X Labels, y Features\n",
        "X_train, X_test, y_train, y_test = train_test_split(X, y, test_size=0.3, random_state=1)"
      ]
    },
    {
      "cell_type": "markdown",
      "metadata": {
        "id": "8BTk_06B3odt"
      },
      "source": [
        "# Estimate Ensemble Models"
      ]
    },
    {
      "cell_type": "markdown",
      "metadata": {
        "id": "6o7cXuOV1CLC"
      },
      "source": [
        "## Bagging Estimator"
      ]
    },
    {
      "cell_type": "code",
      "execution_count": null,
      "metadata": {
        "id": "3cVSrnki0z42"
      },
      "outputs": [],
      "source": [
        "bagging_estimator = BaggingClassifier(random_state = 1)\n",
        "bagging_estimator.fit(X_train, y_train)"
      ]
    },
    {
      "cell_type": "markdown",
      "metadata": {
        "id": "w2cFvKGQ1U4Y"
      },
      "source": [
        "## Gradient Boosting"
      ]
    },
    {
      "cell_type": "code",
      "execution_count": null,
      "metadata": {
        "id": "6BrIgl6h0-Mj"
      },
      "outputs": [],
      "source": [
        "gb_estimator = GradientBoostingClassifier(random_state = 1)\n",
        "gb_estimator.fit(X_train, y_train)"
      ]
    },
    {
      "cell_type": "markdown",
      "metadata": {
        "id": "s9qZoyaM1c2j"
      },
      "source": [
        "## AdaBoost"
      ]
    },
    {
      "cell_type": "code",
      "execution_count": null,
      "metadata": {
        "id": "HCDCCXiJ1bkR"
      },
      "outputs": [],
      "source": [
        "ada_estimator = AdaBoostClassifier(random_state = 1)\n",
        "ada_estimator.fit(X_train, y_train)"
      ]
    },
    {
      "cell_type": "markdown",
      "metadata": {
        "id": "zNU9L2-P1pgz"
      },
      "source": [
        "## XGBoost"
      ]
    },
    {
      "cell_type": "code",
      "execution_count": null,
      "metadata": {
        "id": "RubwLCXk1oQZ"
      },
      "outputs": [],
      "source": [
        "xgb_estimator = XGBClassifier(random_state = 1, eval_metric = 'logloss')\n",
        "xgb_estimator.fit(X_train, y_train)"
      ]
    },
    {
      "cell_type": "markdown",
      "metadata": {
        "id": "aNsBrKGp16KG"
      },
      "source": [
        "## Random Forest"
      ]
    },
    {
      "cell_type": "code",
      "execution_count": null,
      "metadata": {
        "id": "Ts_rLXxV15ZN"
      },
      "outputs": [],
      "source": [
        "rf_estimator = RandomForestClassifier(class_weight=\"balanced\", random_state = 1, oob_score = True, bootstrap = True)\n",
        "rf_estimator.fit(X_train, y_train)"
      ]
    },
    {
      "cell_type": "markdown",
      "metadata": {
        "id": "zqh9RqIG3CEe"
      },
      "source": [
        "# Hyperparameter Tuning Example"
      ]
    },
    {
      "cell_type": "code",
      "execution_count": null,
      "metadata": {
        "id": "dkxFsTh92MDv"
      },
      "outputs": [],
      "source": [
        "# 1) Get new RF Classifier\n",
        "rf_tuned = RandomForestClassifier(class_weight=\"balanced\", random_state=1)\n",
        "\n",
        "# 2) Choose parameters to try\n",
        "parameters = {\"n_estimators\": [100,200,300],\n",
        "    \"min_samples_leaf\": np.arange(5, 10),\n",
        "    \"max_features\": np.arange(0.2, 0.8, 0.1),\n",
        "    \"max_samples\": np.arange(0.2, 0.8, 0.1),\n",
        "             }\n",
        "# 3) Get scorer to compare parameter combinations\n",
        "acc_scorer = metrics.make_scorer(metrics.f1_score)\n",
        "\n",
        "# 4) Perform grid search\n",
        "grid_obj = GridSearchCV(rf_tuned, parameters, scoring=acc_scorer,cv=5)\n",
        "grid_obj = grid_obj.fit(X_train, y_train)\n",
        "\n",
        "# 5) Select best estimator and fit data\n",
        "rf_tuned = grid_obj.best_estimator_\n",
        "rf_tuned.fit(X_train, y_train)"
      ]
    },
    {
      "cell_type": "markdown",
      "metadata": {
        "id": "1vd-Ch2N4z1B"
      },
      "source": [
        "# Score Models Example"
      ]
    },
    {
      "cell_type": "code",
      "execution_count": null,
      "metadata": {
        "id": "odsAP1Zi43Kq"
      },
      "outputs": [],
      "source": [
        "pred_train = rf_estimator.predict(X_train)\n",
        "pred_test = rf_estimator.predict(X_test)\n",
        "    \n",
        "train_acc = rf_estimator.score(X_train,y_train)\n",
        "test_acc = rf_estimator.score(X_test,y_test)\n",
        "    \n",
        "train_recall = metrics.recall_score(y_train,pred_train)\n",
        "test_recall = metrics.recall_score(y_test,pred_test)\n",
        "    \n",
        "train_precision = metrics.precision_score(y_train,pred_train)\n",
        "test_precision = metrics.precision_score(y_test,pred_test)\n",
        "    \n",
        "train_f1 = metrics.f1_score(y_train,pred_train)\n",
        "test_f1 = metrics.f1_score(y_test,pred_test)"
      ]
    }
  ],
  "metadata": {
    "colab": {
      "provenance": []
    },
    "kernelspec": {
      "display_name": "Python 3",
      "name": "python3"
    },
    "language_info": {
      "name": "python"
    }
  },
  "nbformat": 4,
  "nbformat_minor": 0
}
